{
 "cells": [
  {
   "cell_type": "markdown",
   "metadata": {},
   "source": [
    "# Cross Section Data\n",
    "\n",
    "Experimentally the Rosenbluth technique is a straight forward way to extract the electric and magnetic form factors of the nucleon though limits the amount of data that can be used.\n",
    "\n",
    "For data below 1 GeV/c^2, the world data is dominated by the Mainz data, though it is worth\n",
    "noting that due to floating normalizations, different groups extract slightly different values for the form factors from the same cross section data.\n"
   ]
  },
  {
   "cell_type": "markdown",
   "metadata": {},
   "source": [
    "## Formulas \n",
    "\n",
    "Now using the asymmetry result, it is possible to turn the cross section points in form factors (i.e. two equations and two unknowns).\n",
    "\n",
    "Asymmetry = $\\mu G_E / G_M$\n",
    "\n",
    "Reduced Cross Section = $\\frac{1}{\\epsilon(1+\\tau)}(\\epsilon G_E^2 + \\tau G_M^2)$\n",
    "where $\\tau = \\frac{Q^2}{4 m_p}$.\n"
   ]
  },
  {
   "cell_type": "code",
   "execution_count": 1,
   "metadata": {
    "scrolled": false
   },
   "outputs": [
    {
     "name": "stdout",
     "output_type": "stream",
     "text": [
      "\n",
      "Check the max. and min. calculated weights.\n",
      "\n",
      "max ge weight = 0.0092 at Q2 = 0.9772\n",
      "min ge weight = 0.0012 at Q2 = 0.1564\n",
      "\n",
      "max gm weight = 0.0041 at Q2 = 0.0756\n",
      "min gm weight = 0.0013 at Q2 = 0.8586\n",
      "\n"
     ]
    }
   ],
   "source": [
    "from math import sqrt\n",
    "import numpy as np\n",
    "\n",
    "# So we take the rebinned data of Arrington, Hill and Lee but reformat it to four columns:\n",
    "# tau, epsilon, cross section, uncertainty.\n",
    "\n",
    "# This is 658 Cross Section Points\n",
    "\n",
    "\n",
    "PROTON_MASS = 0.938272 \n",
    "PROTON_MU   = 2.792847 \n",
    "\n",
    "q2=[]; eps=[]; rcs=[]; ecs=[]\n",
    "\n",
    "def tau(q2):\n",
    "    return q2/4/PROTON_MASS**2\n",
    "\n",
    "def charge(q2,eps,rcs,delta):\n",
    "    GE2=(rcs*eps*(1+tau(q2)))/(eps+tau(q2)*(PROTON_MU/asymmetry(q2,delta))**2)\n",
    "    return GE2\n",
    "\n",
    "def magnetic(q2,eps,rcs,delta):\n",
    "    GM2=(rcs*eps*(1+tau(q2)))/ (eps*(asymmetry(q2,delta)/PROTON_MU)**2+tau(q2))\n",
    "    return GM2\n",
    "    \n",
    "def asymmetry(q2,delta):\n",
    "    return (1-q2/(8.02*delta)) \n",
    "\n",
    "def carlfunc(q2,delta):\n",
    "    return (1-q2/(8.02*delta)) \n",
    "\n",
    "for l in open(\"test.dat\"):\n",
    "    values=l.split()\n",
    "    q2.append(float(values[0])/25.7)\n",
    "    eps.append(float(values[1]))\n",
    "    rcs.append(float(values[2]))   \n",
    "    ecs.append(float(values[3]))  \n",
    "\n",
    "count=0\n",
    "\n",
    "#print('Event  Q2  GE2')\n",
    "\n",
    "ge=[]; gm=[]; dge=[]; uge=[]; ugm=[]\n",
    "\n",
    "for n in range(len(q2)):\n",
    "    count+=1\n",
    "    #print(\"{0:3} {1:0.3f} {2:0.3f} {3:0.3f} \".format \\\n",
    "    #      (count, q2[n], charge(q2[n],eps[n],rcs[n]), charge(q2[n],eps[n],rcs[n]*1.01) ))\n",
    "    try:\n",
    "        ge.append(sqrt(charge(q2[n],eps[n],rcs[n],1.0)))\n",
    "        t=(sqrt(charge(q2[n],eps[n],rcs[n],1.0)))\n",
    "        uge.append((sqrt(charge(q2[n],eps[n],rcs[n]*(1+ecs[n]),1.05))-t))\n",
    "        gm.append(sqrt(magnetic(q2[n],eps[n],rcs[n],1)))\n",
    "        y=sqrt(magnetic(q2[n],eps[n],rcs[n],1))\n",
    "        x=sqrt(magnetic(q2[n],eps[n],rcs[n]*(1+ecs[n]),0.95))\n",
    "        ugm.append(x-y)\n",
    "    except:\n",
    "        print('Problem with event',n+1)\n",
    "        ge.append(0)\n",
    "        uge.append(0)\n",
    "        dge.append(0)\n",
    "        \n",
    "emax=[0,0]; emin=[10,0]\n",
    "mmax=[0,0]; mmin=[10,0]\n",
    "\n",
    "for n in range(len(ge)):\n",
    "    if (uge[n]/ge[n] > emax[0]):\n",
    "        emax=[uge[n]/ge[n],q2[n]]\n",
    "    if (uge[n]/ge[n] < emin[0]):\n",
    "        emin=[uge[n]/ge[n],q2[n]]\n",
    "    if (ugm[n]/gm[n] > mmax[0]):\n",
    "        mmax=[ugm[n]/gm[n],q2[n]]\n",
    "    if (ugm[n]/gm[n] < mmin[0]):\n",
    "        mmin=[ugm[n]/gm[n],q2[n]]\n",
    "print('')\n",
    "print('Check the max. and min. calculated weights.')\n",
    "print('')\n",
    "print('max ge weight = {0:0.4f} at Q2 = {1:0.4f}'.format(emax[0],emax[1]))\n",
    "print('min ge weight = {0:0.4f} at Q2 = {1:0.4f}'.format(emin[0],emin[1]))\n",
    "print('')\n",
    "print('max gm weight = {0:0.4f} at Q2 = {1:0.4f}'.format(mmax[0],mmax[1]))\n",
    "print('min gm weight = {0:0.4f} at Q2 = {1:0.4f}'.format(mmin[0],mmin[1]))\n",
    "print('')\n",
    "\n",
    "#for n in range(len(q2)):\n",
    "#    print('{0:0.4f}, {1:0.4f}, {2:0.4f}, {3:0.4f}'.format(q2[n],eps[n],rcs[n],ecs[n]))"
   ]
  },
  {
   "cell_type": "code",
   "execution_count": null,
   "metadata": {},
   "outputs": [
    {
     "data": {
      "image/png": "[encoded data removed]",
      "text/plain": [
       "<matplotlib.figure.Figure at 0x111fa87b8>"
      ]
     },
     "metadata": {},
     "output_type": "display_data"
    },
    {
     "data": {
      "image/png": "[encoded data removed]",
      "text/plain": [
       "<matplotlib.figure.Figure at 0x116358588>"
      ]
     },
     "metadata": {},
     "output_type": "display_data"
    }
   ],
   "source": [
    "import matplotlib.pyplot as plt\n",
    "\n",
    "def sd(q2):\n",
    "    return (1+25.7*0.11/2*q2)**(-2)\n",
    "\n",
    "def dd(q2):\n",
    "    return (1+25.7*0.1176/2*q2)**(-2)\n",
    "    #return (1-0.6*q2)/(1+2.4*q2)\n",
    "\n",
    "rdd=[]; sdd=[]; mdd=[]\n",
    "\n",
    "mq2=np.linspace(0,1,1000)\n",
    "for n in mq2:\n",
    "    rdd.append(dd(n))\n",
    "    sdd.append(sd(n))\n",
    "    mdd.append(sd(n)*PROTON_MU)\n",
    "\n",
    "plt.figure(dpi=150)\n",
    "plt.plot(q2,ge,'o',ms=1,color='black')\n",
    "plt.errorbar(q2,ge,yerr=uge,fmt=',',zorder=1,color='black')\n",
    "plt.plot(mq2,rdd,'r',color='green',label='Higinbotham Function')\n",
    "plt.plot(mq2,sdd,'-',color='red',label='Standard Dipole')\n",
    "plt.xlim(0,1)\n",
    "plt.ylim(0,1)\n",
    "plt.xlabel('Q$^2$ [GeV/c]$^2$')\n",
    "plt.ylabel('G$_E$')\n",
    "plt.legend()\n",
    "plt.savefig(\"./Figures/GeFigure.png\") # Raster Graphic\n",
    "plt.savefig(\"./Figures/GeFigure.pdf\") # Vector Graphic\n",
    "plt.show()\n",
    "\n",
    "ratio=[]\n",
    "count=0\n",
    "for m in q2:\n",
    "    ratio.append(ge[count]/sd(m))\n",
    "    count+=1\n",
    "\n",
    "plt.figure(dpi=150)\n",
    "plt.plot(q2,ratio,'o',ms=1,label='$G_E$/SD',color='black')\n",
    "plt.ylim(0.94,1.04)\n",
    "plt.legend()\n",
    "plt.show()"
   ]
  },
  {
   "cell_type": "code",
   "execution_count": null,
   "metadata": {},
   "outputs": [],
   "source": [
    "#\n",
    "# Gm vs. Q2 Plot\n",
    "#\n",
    "plt.figure(dpi=150)\n",
    "plt.plot(q2,gm,'o',ms=1,color='black')\n",
    "plt.errorbar(q2,gm,yerr=ugm,fmt=',',color='black')\n",
    "plt.plot(mq2,mdd,'-',color='red',label='Standard Dipole')\n",
    "plt.xlim(0,1)\n",
    "plt.ylim(0,PROTON_MU)\n",
    "plt.xlabel('Q$^2$ [GeV/c]$^2$')\n",
    "plt.ylabel('G$_M$')\n",
    "plt.legend()\n",
    "plt.xlim(0,1)\n",
    "plt.ylim(0,2.8)\n",
    "plt.savefig(\"./Figures/GmFigure.png\") # Raster Graphic\n",
    "plt.savefig(\"./Figures/GmFigure.pdf\") # Vector Graphic\n",
    "plt.show()\n",
    "\n",
    "ratio=[];rq2=[]\n",
    "count=0\n",
    "\n",
    "for m in q2:\n",
    "    ratio.append(gm[count]/(sd(m)*PROTON_MU))\n",
    "    rq2.append(m)\n",
    "    count+=1\n",
    "    \n",
    "plt.figure(dpi=150)\n",
    "plt.plot(rq2,ratio,'o',ms=1,label='$G_M$/SD',color='black')\n",
    "plt.ylim(0.95,1.1)\n",
    "plt.xlim(0,1)\n",
    "plt.xlabel('Q$^2$ [GeV/c]$^2$')\n",
    "plt.ylabel('Ratio')\n",
    "plt.legend()\n",
    "plt.show()"
   ]
  },
  {
   "cell_type": "code",
   "execution_count": null,
   "metadata": {},
   "outputs": [],
   "source": [
    "from lmfit import Model\n",
    "\n",
    "def gefunc(q2,a,b):\n",
    "    return ((1+a*q2)*(1+b*q2))**(-1)\n",
    "\n",
    "weight=[]\n",
    "\n",
    "for n in range(len(uge)):\n",
    "    weight.append(1/uge[n])\n",
    "\n",
    "model=Model(gefunc)\n",
    "result=model.fit(ge,q2=q2,a=1.5,b=1.5,weights=weight)\n",
    "\n",
    "print(result.fit_report())\n",
    "a=(result.values['a'])\n",
    "b=(result.values['b'])\n",
    "\n",
    "def resultfunc(q2):\n",
    "    return ((1+a*q2)*(1+b*q2))**(-1)\n",
    "\n",
    "residual=[]\n",
    "count=0\n",
    "for m in q2:\n",
    "    residual.append(ge[count]-resultfunc(m))\n",
    "    count+=1\n",
    "\n",
    "plt.figure(dpi=150)\n",
    "plt.plot(q2,residual,'o',ms=1,label='$G_E$ Data - $G_E$ Fit',color='black')\n",
    "plt.plot(q2,[0]*len(q2),'-',color='black')\n",
    "#plt.ylim(-0.005,0.005)\n",
    "plt.xscale('log')\n",
    "plt.xlim(0.01,1)\n",
    "plt.xlabel('Q$^2$ [GeV/c]$^2$')\n",
    "plt.ylabel('Residual')\n",
    "plt.legend()\n",
    "plt.savefig(\"./Figures/GeResidual.png\") # Raster Graphic\n",
    "plt.savefig(\"./Figures/GeResidual.pdf\") # Vector Graphic\n",
    "plt.show()"
   ]
  },
  {
   "cell_type": "code",
   "execution_count": null,
   "metadata": {},
   "outputs": [],
   "source": [
    "from lmfit import Model\n",
    "\n",
    "def gmfunc(q2,aa,bb,cc):\n",
    "    return PROTON_MU/((1+(aa)*q2)*(1+(bb)*q2)*(1+(cc)*q2))\n",
    "    #return PROTON_MU/((1+aa*q2)*(1+bb*q2))\n",
    "\n",
    "weight=[]\n",
    "\n",
    "for n in range(len(ugm)):\n",
    "    weight.append(1/ugm[n])\n",
    "\n",
    "model=Model(gmfunc)\n",
    "result=model.fit(gm,q2=q2,aa=2.5,bb=0.5,cc=0.0,weights=weight)\n",
    "\n",
    "print(result.fit_report())\n",
    "aa=(result.values['aa'])\n",
    "bb=(result.values['bb'])\n",
    "cc=(result.values['cc'])\n",
    "\n",
    "def resultfunc(q2):\n",
    "    return PROTON_MU/((1+(aa)*q2)*(1+(bb)*q2)*(1+(cc)*q2))\n",
    "    #return PROTON_MU/((1+aa*q2)*(1+bb*q2))\n",
    "\n",
    "residual=[]\n",
    "count=0\n",
    "for m in q2:\n",
    "    residual.append(gm[count]-resultfunc(m))\n",
    "    count+=1\n",
    "\n",
    "plt.figure(dpi=150)\n",
    "plt.plot(q2,residual,'o',ms=1,label='$G_M$ Data - $G_M$ Fit',color='black')\n",
    "plt.plot(q2,[0]*len(q2),'-',color='black')\n",
    "plt.ylim(-0.02,0.02)\n",
    "plt.xlim(0.01,1)\n",
    "plt.xscale('log')\n",
    "plt.xlabel('Q$^2$ [GeV/c]$^2$')\n",
    "plt.ylabel('Residual')\n",
    "plt.legend()\n",
    "plt.savefig(\"./Figures/GmResidual.png\") # Raster Graphic\n",
    "plt.savefig(\"./Figures/GmResidual.pdf\") # Vector Graphic\n",
    "plt.show()"
   ]
  },
  {
   "cell_type": "code",
   "execution_count": null,
   "metadata": {
    "collapsed": true
   },
   "outputs": [],
   "source": []
  },
  {
   "cell_type": "code",
   "execution_count": null,
   "metadata": {},
   "outputs": [],
   "source": [
    "print('q2,     ge,     ge-err, gm,     gm-err, mu ge/gm, error')\n",
    "for n in range(len(q2)):\n",
    "    print('{0:0.4f}, {1:0.4f}, {2:0.4f}, {3:0.4f}, {4:0.4f}, {5:0.4f}, {6:0.4f}'.\\\n",
    "          format(q2[n],ge[n],uge[n],gm[n],ugm[n],PROTON_MU*ge[n]/gm[n],\\\n",
    "                 PROTON_MU*(uge[n]/ge[n]+ugm[n]/gm[n])))\n",
    "\n",
    "q2=np.array(q2)\n",
    "ge=np.array(ge)\n",
    "gm=np.array(gm)\n",
    "uge=np.array(uge)\n",
    "ugm=np.array(ugm)\n",
    "\n",
    "plt.errorbar(q2,PROTON_MU*ge/gm,PROTON_MU*(uge/ge+ugm/gm))\n",
    "plt.show()"
   ]
  },
  {
   "cell_type": "code",
   "execution_count": null,
   "metadata": {
    "collapsed": true
   },
   "outputs": [],
   "source": [
    "f=open(\"formfactors.dat\",\"w\")\n",
    "f.write('q2,     ge,     ge-err, gm,     gm-err \\n')\n",
    "for n in range(len(q2)):\n",
    "    f.write('{0:0.4f}, {1:0.4f}, {2:0.4f}, {3:0.4f}, {4:0.4f} \\n'.\\\n",
    "          format(q2[n],ge[n],uge[n],gm[n],ugm[n]))\n",
    "f.close()"
   ]
  },
  {
   "cell_type": "markdown",
   "metadata": {},
   "source": [
    "With the G<sub>E</sub> and G<sub>M</sub> fits, we can make a new ratio function and complare\n",
    "with the originial."
   ]
  },
  {
   "cell_type": "code",
   "execution_count": null,
   "metadata": {},
   "outputs": [],
   "source": [
    "def newasym(q2):\n",
    "#    return ((1+aa*q2)*(1+bb*q2))/((1+a*q2)*(1+b*q2))\n",
    "    return ((1+aa*q2)*(1+bb*q2)*(1+cc*q2))/((1+a*q2)*(1+b*q2))\n",
    "\n",
    "newa=[]; olda=[]; oldu=[]; oldd=[]\n",
    "\n",
    "myq2=np.linspace(0,2,1000)\n",
    "\n",
    "for n in range(len(myq2)):\n",
    "    newa.append(newasym(myq2[n]))\n",
    "    olda.append(carlfunc(myq2[n],1))\n",
    "    oldu.append(carlfunc(myq2[n],1.1))\n",
    "    oldd.append(carlfunc(myq2[n],0.9))\n",
    "\n",
    "plt.figure(dpi=150)\n",
    "plt.plot(myq2,olda, color='orange', label='Prior Asymmetry Fit Function')\n",
    "plt.plot(myq2,oldu, '--', color='orange')# label='Prior Asymmetry Fit Function')\n",
    "plt.plot(myq2,oldd, '--', color='orange')# label='Prior Asymmetry')\n",
    "plt.plot(myq2,newa, color='black', label='Posterior Form Factor Fit Ratio')\n",
    "plt.legend()\n",
    "plt.xlabel('Q$^2$ [GeV/c]$^2$')\n",
    "plt.ylabel('$\\mu$ G$_E$/G$_M$')\n",
    "plt.show()"
   ]
  },
  {
   "cell_type": "code",
   "execution_count": null,
   "metadata": {},
   "outputs": [],
   "source": [
    "print('Resulting Form Factor Ratio Fuction')\n",
    "print('')\n",
    "print('def newasym(q2):')\n",
    "print('     return (( 1 +{0:0.4f}*q2)*(1+{1:0.4f}*q2)*(1+{2:0.4f}))/((1+{3:0.4f}*q2)*(1+{4:0.4f}*q2))'.\\\n",
    "      format(aa,bb,cc,a,b))"
   ]
  },
  {
   "cell_type": "markdown",
   "metadata": {},
   "source": [
    "## References\n",
    "\n",
    "* https://doi.org/10.1103/PhysRevD.92.013013\n",
    "* https://doi.org/10.1103/PhysRevC.93.055201"
   ]
  },
  {
   "cell_type": "code",
   "execution_count": null,
   "metadata": {
    "collapsed": true
   },
   "outputs": [],
   "source": []
  },
  {
   "cell_type": "code",
   "execution_count": null,
   "metadata": {
    "collapsed": true
   },
   "outputs": [],
   "source": []
  },
  {
   "cell_type": "code",
   "execution_count": null,
   "metadata": {
    "collapsed": true
   },
   "outputs": [],
   "source": []
  },
  {
   "cell_type": "code",
   "execution_count": null,
   "metadata": {
    "collapsed": true
   },
   "outputs": [],
   "source": []
  }
 ],
 "metadata": {
  "kernelspec": {
   "display_name": "Python 3",
   "language": "python",
   "name": "python3"
  },
  "language_info": {
   "codemirror_mode": {
    "name": "ipython",
    "version": 3
   },
   "file_extension": ".py",
   "mimetype": "text/x-python",
   "name": "python",
   "nbconvert_exporter": "python",
   "pygments_lexer": "ipython3",
   "version": "3.6.1"
  }
 },
 "nbformat": 4,
 "nbformat_minor": 2
}
