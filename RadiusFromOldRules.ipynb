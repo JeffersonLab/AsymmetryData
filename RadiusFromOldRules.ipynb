{
 "cells": [
  {
   "cell_type": "markdown",
   "metadata": {},
   "source": [
    "## Check What Happens When You Follow Old Proceedures To Extract Proton Radius\n",
    "\n",
    "Using the full Mainz data and the proceedure of I. Sick (2003)\n",
    "\n",
    "http://www.sciencedirect.com/science/article/pii/S0370269303015387\n",
    "\n",
    "In this work the author's using Continued Fraction fits of the data out to 4 fm^{-1}\n",
    "with fits from 2nd to 5th order.\n",
    "\n",
    "Fits using Jan's binning and errors with Mu and Tsi radiative corrections.\n",
    "\n",
    "|    | 4 fm<sup/>-2</sup> | 9 fm<sup>-2</sup> |16 fm<sup>-2</sup> | 25 fm<sup>-2</sup> |\n",
    "|----|:------:|:------:|:------:|:------:|\n",
    "| 2  | 0.857fm | 0.835fm | 0.832fm | 0.828fm |\n",
    "| 3  | 0.856fm | 0.855fm | 0.837fm | 0.834fm |\n",
    "| 4  | 0.860fm | 0.863fm | 0.849fm | 0.853fm |\n",
    "\n",
    "In this paper, Ingo used a chi2/nu cutoff of 1.2 for judging simulated results.\n",
    "\n",
    "The worse fit is the 2-param CF with cutoff 25fm<sup>-2</sup> with chi2 = 2125.96 for 1420 data points  chi2/v = 1.51.\n",
    "\n",
    "The 2nd order CF with the 4fm<sup>-2</sup> cutoff is fitting 930 points with a total chi2 925 and chi2/nu 1.01.\n",
    "\n",
    "Now we repeat the same fits, but using the binning of Arrington, Hill and Lee.  \n",
    "\n",
    "|    | 4 fm<sup/>-2</sup> | 9 fm<sup>-2</sup> |16 fm<sup>-2</sup> | 25 fm<sup>-2</sup> |\n",
    "|----|:------:|:------:|:------:|:------:|\n",
    "| 2  | 0.854fm, chi2/v=0.64 | 0.831fm, chi2/v=0.97 | 0.830fm, chi2/v=1.00 | 0.825fm, chi2/v=1.12 |\n",
    "| 3  | 0.851fm, chi2/v=0.64 | 0.850fm, chi2/v=0.80 | 0.832fm, chi2/v=0.94 | 0.833fm, chi2/v=0.96 |\n",
    "| 4  | 0.854fm, chi2/v=0.64 | 0.858fm, chi2/v=0.78 | 0.845fm, chi2/v=0.85 | 0.848fm, chi2/v=0.90 |\n",
    "| 5  | 0.848fm, chi2/v=0.64 | 0.858fm ,chi2/v=0.78 | 0.857fm, chi2/v=0.81 | 0.828fm, chi2/v=0.93 |\n",
    "\n",
    "These fits were done with jan-fm.py and the ReCrossSection.dat(John) and CrossSections.dat(Jan) files.\n",
    "commit 323d1b4c0dbc48c0d39f7901ed03aabd7c2691cc\n",
    "Author: dhiginbotham <doug@shortrange.jlab.org>\n",
    "Date:   Wed Aug 9 15:07:41 2017 -0400\n",
    "\n",
    "This is particularly bewildering since Arrington, Hill and Lee seem to get a large proton radius so now off to z-transformations...\n"
   ]
  },
  {
   "cell_type": "code",
   "execution_count": null,
   "metadata": {
    "collapsed": true
   },
   "outputs": [],
   "source": [
    "\n"
   ]
  },
  {
   "cell_type": "code",
   "execution_count": null,
   "metadata": {
    "collapsed": true
   },
   "outputs": [],
   "source": []
  }
 ],
 "metadata": {
  "kernelspec": {
   "display_name": "Python 3",
   "language": "python",
   "name": "python3"
  },
  "language_info": {
   "codemirror_mode": {
    "name": "ipython",
    "version": 3
   },
   "file_extension": ".py",
   "mimetype": "text/x-python",
   "name": "python",
   "nbconvert_exporter": "python",
   "pygments_lexer": "ipython3",
   "version": "3.6.1"
  }
 },
 "nbformat": 4,
 "nbformat_minor": 2
}
